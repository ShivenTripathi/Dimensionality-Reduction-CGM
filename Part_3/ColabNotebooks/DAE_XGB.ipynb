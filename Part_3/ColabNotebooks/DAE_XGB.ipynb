{
  "nbformat": 4,
  "nbformat_minor": 0,
  "metadata": {
    "colab": {
      "name": "DAE_XGB.ipynb",
      "provenance": [],
      "mount_file_id": "1XsCzmkDdt077BLIQfxAJ3FVUczAgKtzA",
      "authorship_tag": "ABX9TyO1bI73P+vNJkXeC8GVx6Rc",
      "include_colab_link": true
    },
    "kernelspec": {
      "name": "python3",
      "display_name": "Python 3"
    },
    "language_info": {
      "name": "python"
    },
    "accelerator": "GPU"
  },
  "cells": [
    {
      "cell_type": "markdown",
      "metadata": {
        "id": "view-in-github",
        "colab_type": "text"
      },
      "source": [
        "<a href=\"https://colab.research.google.com/github/ShivenTripathi/Dimensionality-Reduction-CGM/blob/main/Part_3/ColabNotebooks/DAE_XGB.ipynb\" target=\"_parent\"><img src=\"https://colab.research.google.com/assets/colab-badge.svg\" alt=\"Open In Colab\"/></a>"
      ]
    },
    {
      "cell_type": "code",
      "metadata": {
        "id": "fQWAFC_mLBmi"
      },
      "source": [
        "%cd /content/gdrive/MyDrive/CGM\n",
        "!ls\n",
        "# !gzip \"/content/drive/MyDrive/CGM/dataset/HIGGS_6M.csv.gz\" -d \"/content/drive/MyDrive/CGM/dataset\""
      ],
      "execution_count": null,
      "outputs": []
    },
    {
      "cell_type": "code",
      "metadata": {
        "colab": {
          "base_uri": "https://localhost:8080/"
        },
        "id": "NLnws2fExYlx",
        "outputId": "e6a623f0-40ee-4d33-f28d-16b170af355f"
      },
      "source": [
        "!pip install -U fastbook"
      ],
      "execution_count": null,
      "outputs": [
        {
          "output_type": "stream",
          "text": [
            "      Successfully uninstalled torch-1.8.0+cu101\n",
            "  Found existing installation: torchvision 0.9.0+cu101\n",
            "    Uninstalling torchvision-0.9.0+cu101:\n",
            "      Successfully uninstalled torchvision-0.9.0+cu101\n",
            "  Found existing installation: fastai 1.0.61\n",
            "    Uninstalling fastai-1.0.61:\n",
            "      Successfully uninstalled fastai-1.0.61\n",
            "Successfully installed fastai-2.2.7 fastbook-0.0.16 fastcore-1.3.19 fastrelease-0.1.11 ghapi-0.1.16 nbdev-1.1.13 sentencepiece-0.1.95 torch-1.7.1 torchvision-0.8.2\n"
          ],
          "name": "stdout"
        }
      ]
    },
    {
      "cell_type": "code",
      "metadata": {
        "id": "5RhQgpQvyEHB"
      },
      "source": [
        "import pandas as pd\n",
        "import matplotlib.pyplot as plt\n",
        "from sklearn import preprocessing\n",
        "from sklearn.model_selection import train_test_split\n",
        "import fastbook\n",
        "fastbook.setup_book()\n",
        "from fastai.metrics import mse\n",
        "import torch\n",
        "import torch.nn as nn\n",
        "import torch.optim as optim\n",
        "import torch.utils.data\n",
        "from torch.autograd import Variable\n",
        "from torch.utils.data import TensorDataset\n",
        "from torch.utils.data import DataLoader\n",
        "from fastai import learner\n",
        "from fastai.data import core\n",
        "import time\n",
        "from fastai.callback import schedule\n",
        "import os\n",
        "import numpy as np\n",
        "from scipy import stats\n",
        "import seaborn as sns"
      ],
      "execution_count": null,
      "outputs": []
    },
    {
      "cell_type": "code",
      "metadata": {
        "id": "ldY_EJHRsAYC"
      },
      "source": [
        "df=pd.read_csv(\"dataset/HIGGS_6M.csv\")"
      ],
      "execution_count": null,
      "outputs": []
    },
    {
      "cell_type": "markdown",
      "metadata": {
        "id": "LYp58KfHljDU"
      },
      "source": [
        "# Preprocessing dataset \n",
        "\n",
        "* Standard Scaling\n",
        "* Min Max Scaling"
      ]
    },
    {
      "cell_type": "code",
      "metadata": {
        "id": "opUJgO3Gtglm"
      },
      "source": [
        "dataset=df.to_numpy()\n",
        "X = dataset[:,1:]\n",
        "Y = dataset[:,0].astype(int)\n",
        "print(X[0],Y[0])\n",
        "print(np.shape(X),np.shape(X[0]),np.shape(Y),np.shape(Y[0]))\n",
        "from sklearn.preprocessing import StandardScaler\n",
        "from sklearn.preprocessing import MinMaxScaler\n",
        "\n",
        "scaler = StandardScaler()\n",
        "categorical=[0,9,13,17,21]\n",
        "\n",
        "for index in range(28):\n",
        "  X[:,index]=scaler.fit_transform(X[:,index].reshape(-1,1)).reshape(-1)\n",
        "\n",
        "scaler = MinMaxScaler()\n",
        "for index in range(28):\n",
        "  X[:,index]=scaler.fit_transform(X[:,index].reshape(-1,1)).reshape(-1)"
      ],
      "execution_count": null,
      "outputs": []
    },
    {
      "cell_type": "markdown",
      "metadata": {
        "id": "G5Zc_8njlpWM"
      },
      "source": [
        "# Compiling DAE Model\n",
        "\n"
      ]
    },
    {
      "cell_type": "code",
      "metadata": {
        "colab": {
          "base_uri": "https://localhost:8080/"
        },
        "id": "9XElbctH-41M",
        "outputId": "9ea7b2be-953c-41de-8815-719ceed2782b"
      },
      "source": [
        "class AE_4D_300_LeakyReLU(nn.Module):\n",
        "    def __init__(self, n_features=28,bottle_neck=8):\n",
        "        super(AE_4D_300_LeakyReLU, self).__init__()\n",
        "        self.en1 = nn.Linear(n_features, 300)\n",
        "        self.en2 = nn.Linear(300, 200)\n",
        "        self.en3 = nn.Linear(200, 100)\n",
        "        self.en4 = nn.Linear(100,50)\n",
        "        self.en5 = nn.Linear(50, bottle_neck)\n",
        "        self.de1 = nn.Linear(bottle_neck, 50)\n",
        "        self.de2 = nn.Linear(50, 100)\n",
        "        self.de3 = nn.Linear(100, 200)\n",
        "        self.de4 = nn.Linear(200,300)\n",
        "        self.de5 = nn.Linear(300, n_features)\n",
        "        self.tanh = nn.Tanh()\n",
        "\n",
        "    def encode(self, x):\n",
        "        return self.en5(self.tanh(self.en4(self.tanh(self.en3(self.tanh(self.en2(self.tanh(self.en1(x)))))))))\n",
        "\n",
        "    def decode(self, x):\n",
        "        return self.de5(self.tanh(self.de4(self.tanh(self.de3(self.tanh(self.de2(self.tanh(self.de1(self.tanh(x))))))))))\n",
        "\n",
        "    def forward(self, x):\n",
        "        z = self.encode(x)\n",
        "        return self.decode(z)\n",
        "\n",
        "model = AE_4D_300_LeakyReLU()\n",
        "model.to('cpu')"
      ],
      "execution_count": null,
      "outputs": [
        {
          "output_type": "execute_result",
          "data": {
            "text/plain": [
              "AE_4D_300_LeakyReLU(\n",
              "  (en1): Linear(in_features=28, out_features=300, bias=True)\n",
              "  (en2): Linear(in_features=300, out_features=200, bias=True)\n",
              "  (en3): Linear(in_features=200, out_features=100, bias=True)\n",
              "  (en4): Linear(in_features=100, out_features=50, bias=True)\n",
              "  (en5): Linear(in_features=50, out_features=8, bias=True)\n",
              "  (de1): Linear(in_features=8, out_features=50, bias=True)\n",
              "  (de2): Linear(in_features=50, out_features=100, bias=True)\n",
              "  (de3): Linear(in_features=100, out_features=200, bias=True)\n",
              "  (de4): Linear(in_features=200, out_features=300, bias=True)\n",
              "  (de5): Linear(in_features=300, out_features=28, bias=True)\n",
              "  (tanh): Tanh()\n",
              ")"
            ]
          },
          "metadata": {
            "tags": []
          },
          "execution_count": 16
        }
      ]
    },
    {
      "cell_type": "markdown",
      "metadata": {
        "id": "d_9d_BeKluHY"
      },
      "source": [
        "# Loading DAE Model from Drive"
      ]
    },
    {
      "cell_type": "code",
      "metadata": {
        "colab": {
          "base_uri": "https://localhost:8080/"
        },
        "id": "6oPBspaT8wM0",
        "outputId": "a21a3169-79ad-4d77-b529-44d9d0087c2e"
      },
      "source": [
        "model_inf = AE_4D_300_LeakyReLU()\n",
        "model_inf.to('cpu')\n",
        "model_inf.load_state_dict(torch.load(\"dae_model/model.pth\"))"
      ],
      "execution_count": null,
      "outputs": [
        {
          "output_type": "execute_result",
          "data": {
            "text/plain": [
              "<All keys matched successfully>"
            ]
          },
          "metadata": {
            "tags": []
          },
          "execution_count": 17
        }
      ]
    },
    {
      "cell_type": "markdown",
      "metadata": {
        "id": "nohnCjsSlxCF"
      },
      "source": [
        "# Generating Encoded Input from DAE Model\n",
        "\n",
        "You can skip this, next cell loads this from Drive"
      ]
    },
    {
      "cell_type": "code",
      "metadata": {
        "id": "4a92N3f3Q9Qw"
      },
      "source": [
        "from tqdm import tqdm\n",
        "\n",
        "for i in tqdm(range(np.shape(X)[0]//10**6)):\n",
        "  data = torch.tensor(X[i*(10**6):(i+1)*(10**6)], dtype=torch.float)\n",
        "  pred = model_inf.encode(data)\n",
        "  pred = pred.detach().numpy()\n",
        "  pred = pred.T\n",
        "  # pred = np.reshape(pred,(np.shape(pred)[0],1))\n",
        "  if i is 0:\n",
        "    x=pred\n",
        "  # save(str(i)+'.npy', pred)\n",
        "  else:\n",
        "    x=np.concatenate((x,pred),axis=-1)\n",
        "data = torch.tensor(X[(i+1)*(10**6):], dtype=torch.float)\n",
        "pred = model_inf.encode(data)\n",
        "pred = pred.detach().numpy()\n",
        "pred = pred.T\n",
        "x=np.concatenate((x,pred),axis=-1)"
      ],
      "execution_count": null,
      "outputs": []
    },
    {
      "cell_type": "code",
      "metadata": {
        "colab": {
          "base_uri": "https://localhost:8080/"
        },
        "id": "9GCmVGgzx1Rl",
        "outputId": "de6df8a6-5e46-48e1-df2e-34bc9b235002"
      },
      "source": [
        "print(np.shape(x))\n",
        "x=x.T\n",
        "print(np.shape(x))\n",
        "np.save(\"encoded_x_6M.npy\",x)\n",
        "X = x\n",
        "del x"
      ],
      "execution_count": null,
      "outputs": [
        {
          "output_type": "stream",
          "text": [
            "(8, 5999999)\n",
            "(5999999, 8)\n"
          ],
          "name": "stdout"
        }
      ]
    },
    {
      "cell_type": "code",
      "metadata": {
        "colab": {
          "base_uri": "https://localhost:8080/"
        },
        "id": "Q4ne25r0g4ZF",
        "outputId": "78ddd4f6-b667-4ff2-bbc4-b6d60d1d9e43"
      },
      "source": [
        "X = np.load(\"encoded_x_6M.npy\")\n",
        "print(np.shape(X), np.shape(Y))"
      ],
      "execution_count": null,
      "outputs": [
        {
          "output_type": "stream",
          "text": [
            "(5999999, 8) (5999999,)\n"
          ],
          "name": "stdout"
        }
      ]
    },
    {
      "cell_type": "markdown",
      "metadata": {
        "id": "2IMHAC_Ol5MM"
      },
      "source": [
        "# Training XGB Classifier on Encoded input\n",
        "\n",
        "You can skip training last cell loads the model"
      ]
    },
    {
      "cell_type": "code",
      "metadata": {
        "id": "2fcLXlE6SNEO"
      },
      "source": [
        "import xgboost\n",
        "from numpy import loadtxt\n",
        "from xgboost import XGBClassifier\n",
        "from sklearn.model_selection import train_test_split\n",
        "from sklearn.metrics import accuracy_score"
      ],
      "execution_count": null,
      "outputs": []
    },
    {
      "cell_type": "code",
      "metadata": {
        "id": "eexoKv4iykOg"
      },
      "source": [
        "seed = 7\n",
        "test_size = 0.08\n",
        "X_train, X_valid, y_train, y_valid = train_test_split(X, Y, test_size=test_size, random_state=seed)\n",
        "# Might try a different test split also to check overfitting"
      ],
      "execution_count": null,
      "outputs": []
    },
    {
      "cell_type": "code",
      "metadata": {
        "colab": {
          "base_uri": "https://localhost:8080/"
        },
        "id": "70vHia24ym9x",
        "outputId": "e4235072-1ed5-474d-b64e-d8ae399f06db"
      },
      "source": [
        "eval_set = [(X_valid, y_valid)]\n",
        "model = XGBClassifier(n_estimators=300, learning_rate=0.1, max_depth=5, gamma=0.1, subsample=0.8, colsample_bytree=0.8)\n",
        "eval_set = [(X_valid, y_valid)]\n",
        "model.fit(X_train, y_train, eval_metric=\"auc\", eval_set=eval_set, verbose=True, early_stopping_rounds=5)"
      ],
      "execution_count": null,
      "outputs": [
        {
          "output_type": "stream",
          "text": [
            "[18:41:09] WARNING: /workspace/src/learner.cc:686: Tree method is automatically selected to be 'approx' for faster speed. To use old behavior (exact greedy algorithm on single machine), set tree_method to 'exact'.\n",
            "[0]\tvalidation_0-auc:0.566642\n",
            "Will train until validation_0-auc hasn't improved in 5 rounds.\n",
            "[1]\tvalidation_0-auc:0.574211\n",
            "[2]\tvalidation_0-auc:0.584001\n",
            "[3]\tvalidation_0-auc:0.587706\n",
            "[4]\tvalidation_0-auc:0.586605\n",
            "[5]\tvalidation_0-auc:0.59076\n",
            "[6]\tvalidation_0-auc:0.591432\n",
            "[7]\tvalidation_0-auc:0.591808\n",
            "[8]\tvalidation_0-auc:0.592128\n",
            "[9]\tvalidation_0-auc:0.593737\n",
            "[10]\tvalidation_0-auc:0.59503\n",
            "[11]\tvalidation_0-auc:0.595247\n",
            "[12]\tvalidation_0-auc:0.595731\n",
            "[13]\tvalidation_0-auc:0.596987\n",
            "[14]\tvalidation_0-auc:0.599021\n",
            "[15]\tvalidation_0-auc:0.599298\n",
            "[16]\tvalidation_0-auc:0.599405\n",
            "[17]\tvalidation_0-auc:0.599925\n",
            "[18]\tvalidation_0-auc:0.600095\n",
            "[19]\tvalidation_0-auc:0.600445\n",
            "[20]\tvalidation_0-auc:0.600821\n",
            "[21]\tvalidation_0-auc:0.601451\n",
            "[22]\tvalidation_0-auc:0.602242\n",
            "[23]\tvalidation_0-auc:0.603133\n",
            "[24]\tvalidation_0-auc:0.603468\n",
            "[25]\tvalidation_0-auc:0.604218\n",
            "[26]\tvalidation_0-auc:0.604766\n",
            "[27]\tvalidation_0-auc:0.605245\n",
            "[28]\tvalidation_0-auc:0.605708\n",
            "[29]\tvalidation_0-auc:0.606007\n",
            "[30]\tvalidation_0-auc:0.606491\n",
            "[31]\tvalidation_0-auc:0.607231\n",
            "[32]\tvalidation_0-auc:0.607708\n",
            "[33]\tvalidation_0-auc:0.608399\n",
            "[34]\tvalidation_0-auc:0.60879\n",
            "[35]\tvalidation_0-auc:0.609354\n",
            "[36]\tvalidation_0-auc:0.609785\n",
            "[37]\tvalidation_0-auc:0.610237\n",
            "[38]\tvalidation_0-auc:0.610733\n",
            "[39]\tvalidation_0-auc:0.610944\n",
            "[40]\tvalidation_0-auc:0.611082\n",
            "[41]\tvalidation_0-auc:0.612208\n",
            "[42]\tvalidation_0-auc:0.612396\n",
            "[43]\tvalidation_0-auc:0.612654\n",
            "[44]\tvalidation_0-auc:0.612858\n",
            "[45]\tvalidation_0-auc:0.61312\n",
            "[46]\tvalidation_0-auc:0.613304\n",
            "[47]\tvalidation_0-auc:0.613689\n",
            "[48]\tvalidation_0-auc:0.614082\n",
            "[49]\tvalidation_0-auc:0.614407\n",
            "[50]\tvalidation_0-auc:0.614764\n",
            "[51]\tvalidation_0-auc:0.615224\n",
            "[52]\tvalidation_0-auc:0.615441\n",
            "[53]\tvalidation_0-auc:0.615886\n",
            "[54]\tvalidation_0-auc:0.616352\n",
            "[55]\tvalidation_0-auc:0.616398\n",
            "[56]\tvalidation_0-auc:0.616553\n",
            "[57]\tvalidation_0-auc:0.616779\n",
            "[58]\tvalidation_0-auc:0.616899\n",
            "[59]\tvalidation_0-auc:0.617028\n",
            "[60]\tvalidation_0-auc:0.617269\n",
            "[61]\tvalidation_0-auc:0.617462\n",
            "[62]\tvalidation_0-auc:0.618214\n",
            "[63]\tvalidation_0-auc:0.61859\n",
            "[64]\tvalidation_0-auc:0.618881\n",
            "[65]\tvalidation_0-auc:0.619027\n",
            "[66]\tvalidation_0-auc:0.61936\n",
            "[67]\tvalidation_0-auc:0.619673\n",
            "[68]\tvalidation_0-auc:0.61988\n",
            "[69]\tvalidation_0-auc:0.620103\n",
            "[70]\tvalidation_0-auc:0.620319\n",
            "[71]\tvalidation_0-auc:0.620468\n",
            "[72]\tvalidation_0-auc:0.620598\n",
            "[73]\tvalidation_0-auc:0.620805\n",
            "[74]\tvalidation_0-auc:0.62102\n",
            "[75]\tvalidation_0-auc:0.621064\n",
            "[76]\tvalidation_0-auc:0.621348\n",
            "[77]\tvalidation_0-auc:0.621415\n",
            "[78]\tvalidation_0-auc:0.621646\n",
            "[79]\tvalidation_0-auc:0.62225\n",
            "[80]\tvalidation_0-auc:0.622437\n",
            "[81]\tvalidation_0-auc:0.622551\n",
            "[82]\tvalidation_0-auc:0.622628\n",
            "[83]\tvalidation_0-auc:0.62283\n",
            "[84]\tvalidation_0-auc:0.623218\n",
            "[85]\tvalidation_0-auc:0.623681\n",
            "[86]\tvalidation_0-auc:0.624013\n",
            "[87]\tvalidation_0-auc:0.624062\n",
            "[88]\tvalidation_0-auc:0.624233\n",
            "[89]\tvalidation_0-auc:0.624409\n",
            "[90]\tvalidation_0-auc:0.62451\n",
            "[91]\tvalidation_0-auc:0.624805\n",
            "[92]\tvalidation_0-auc:0.624968\n",
            "[93]\tvalidation_0-auc:0.625039\n",
            "[94]\tvalidation_0-auc:0.62506\n",
            "[95]\tvalidation_0-auc:0.625216\n",
            "[96]\tvalidation_0-auc:0.625327\n",
            "[97]\tvalidation_0-auc:0.625465\n",
            "[98]\tvalidation_0-auc:0.625678\n",
            "[99]\tvalidation_0-auc:0.625763\n",
            "[100]\tvalidation_0-auc:0.625837\n",
            "[101]\tvalidation_0-auc:0.626049\n",
            "[102]\tvalidation_0-auc:0.626092\n",
            "[103]\tvalidation_0-auc:0.626381\n",
            "[104]\tvalidation_0-auc:0.626419\n",
            "[105]\tvalidation_0-auc:0.626451\n",
            "[106]\tvalidation_0-auc:0.626522\n",
            "[107]\tvalidation_0-auc:0.626747\n",
            "[108]\tvalidation_0-auc:0.626891\n",
            "[109]\tvalidation_0-auc:0.627102\n",
            "[110]\tvalidation_0-auc:0.627239\n",
            "[111]\tvalidation_0-auc:0.627397\n",
            "[112]\tvalidation_0-auc:0.627743\n",
            "[113]\tvalidation_0-auc:0.627835\n",
            "[114]\tvalidation_0-auc:0.627926\n",
            "[115]\tvalidation_0-auc:0.627958\n",
            "[116]\tvalidation_0-auc:0.628076\n",
            "[117]\tvalidation_0-auc:0.628369\n",
            "[118]\tvalidation_0-auc:0.628429\n",
            "[119]\tvalidation_0-auc:0.628549\n",
            "[120]\tvalidation_0-auc:0.628821\n",
            "[121]\tvalidation_0-auc:0.628966\n",
            "[122]\tvalidation_0-auc:0.629176\n",
            "[123]\tvalidation_0-auc:0.629423\n",
            "[124]\tvalidation_0-auc:0.629628\n",
            "[125]\tvalidation_0-auc:0.629687\n",
            "[126]\tvalidation_0-auc:0.629909\n",
            "[127]\tvalidation_0-auc:0.629969\n",
            "[128]\tvalidation_0-auc:0.630234\n",
            "[129]\tvalidation_0-auc:0.630336\n",
            "[130]\tvalidation_0-auc:0.630355\n",
            "[131]\tvalidation_0-auc:0.630415\n",
            "[132]\tvalidation_0-auc:0.630527\n",
            "[133]\tvalidation_0-auc:0.630864\n",
            "[134]\tvalidation_0-auc:0.630975\n",
            "[135]\tvalidation_0-auc:0.630991\n",
            "[136]\tvalidation_0-auc:0.631121\n",
            "[137]\tvalidation_0-auc:0.631307\n",
            "[138]\tvalidation_0-auc:0.63139\n",
            "[139]\tvalidation_0-auc:0.631416\n",
            "[140]\tvalidation_0-auc:0.63157\n",
            "[141]\tvalidation_0-auc:0.631728\n",
            "[142]\tvalidation_0-auc:0.631806\n",
            "[143]\tvalidation_0-auc:0.631862\n",
            "[144]\tvalidation_0-auc:0.631951\n",
            "[145]\tvalidation_0-auc:0.632094\n",
            "[146]\tvalidation_0-auc:0.632127\n",
            "[147]\tvalidation_0-auc:0.632356\n",
            "[148]\tvalidation_0-auc:0.632415\n",
            "[149]\tvalidation_0-auc:0.632489\n",
            "[150]\tvalidation_0-auc:0.632604\n",
            "[151]\tvalidation_0-auc:0.632673\n",
            "[152]\tvalidation_0-auc:0.63273\n",
            "[153]\tvalidation_0-auc:0.632779\n",
            "[154]\tvalidation_0-auc:0.632836\n",
            "[155]\tvalidation_0-auc:0.633024\n",
            "[156]\tvalidation_0-auc:0.633142\n",
            "[157]\tvalidation_0-auc:0.633258\n",
            "[158]\tvalidation_0-auc:0.633351\n",
            "[159]\tvalidation_0-auc:0.633435\n",
            "[160]\tvalidation_0-auc:0.633604\n",
            "[161]\tvalidation_0-auc:0.633745\n",
            "[162]\tvalidation_0-auc:0.633785\n",
            "[163]\tvalidation_0-auc:0.633935\n",
            "[164]\tvalidation_0-auc:0.633997\n",
            "[165]\tvalidation_0-auc:0.63406\n",
            "[166]\tvalidation_0-auc:0.634317\n",
            "[167]\tvalidation_0-auc:0.634463\n",
            "[168]\tvalidation_0-auc:0.634491\n",
            "[169]\tvalidation_0-auc:0.634526\n",
            "[170]\tvalidation_0-auc:0.634688\n",
            "[171]\tvalidation_0-auc:0.634741\n",
            "[172]\tvalidation_0-auc:0.634793\n",
            "[173]\tvalidation_0-auc:0.634841\n",
            "[174]\tvalidation_0-auc:0.634924\n",
            "[175]\tvalidation_0-auc:0.635168\n",
            "[176]\tvalidation_0-auc:0.635328\n",
            "[177]\tvalidation_0-auc:0.63543\n",
            "[178]\tvalidation_0-auc:0.635494\n",
            "[179]\tvalidation_0-auc:0.635504\n",
            "[180]\tvalidation_0-auc:0.635539\n",
            "[181]\tvalidation_0-auc:0.635595\n",
            "[182]\tvalidation_0-auc:0.635707\n",
            "[183]\tvalidation_0-auc:0.635844\n",
            "[184]\tvalidation_0-auc:0.635977\n",
            "[185]\tvalidation_0-auc:0.636053\n",
            "[186]\tvalidation_0-auc:0.636139\n",
            "[187]\tvalidation_0-auc:0.636223\n",
            "[188]\tvalidation_0-auc:0.636334\n",
            "[189]\tvalidation_0-auc:0.636505\n",
            "[190]\tvalidation_0-auc:0.636548\n",
            "[191]\tvalidation_0-auc:0.636605\n",
            "[192]\tvalidation_0-auc:0.63673\n",
            "[193]\tvalidation_0-auc:0.636792\n",
            "[194]\tvalidation_0-auc:0.636805\n",
            "[195]\tvalidation_0-auc:0.636946\n",
            "[196]\tvalidation_0-auc:0.63707\n",
            "[197]\tvalidation_0-auc:0.637181\n",
            "[198]\tvalidation_0-auc:0.637288\n",
            "[199]\tvalidation_0-auc:0.637383\n",
            "[200]\tvalidation_0-auc:0.637402\n",
            "[201]\tvalidation_0-auc:0.637522\n",
            "[202]\tvalidation_0-auc:0.637629\n",
            "[203]\tvalidation_0-auc:0.637784\n",
            "[204]\tvalidation_0-auc:0.637892\n",
            "[205]\tvalidation_0-auc:0.637918\n",
            "[206]\tvalidation_0-auc:0.637986\n",
            "[207]\tvalidation_0-auc:0.63806\n",
            "[208]\tvalidation_0-auc:0.638173\n",
            "[209]\tvalidation_0-auc:0.638258\n",
            "[210]\tvalidation_0-auc:0.638335\n",
            "[211]\tvalidation_0-auc:0.638353\n",
            "[212]\tvalidation_0-auc:0.638434\n",
            "[213]\tvalidation_0-auc:0.638487\n",
            "[214]\tvalidation_0-auc:0.638634\n",
            "[215]\tvalidation_0-auc:0.638665\n",
            "[216]\tvalidation_0-auc:0.638712\n",
            "[217]\tvalidation_0-auc:0.638777\n",
            "[218]\tvalidation_0-auc:0.638873\n",
            "[219]\tvalidation_0-auc:0.638927\n",
            "[220]\tvalidation_0-auc:0.639026\n",
            "[221]\tvalidation_0-auc:0.639107\n",
            "[222]\tvalidation_0-auc:0.639125\n",
            "[223]\tvalidation_0-auc:0.639196\n",
            "[224]\tvalidation_0-auc:0.639241\n",
            "[225]\tvalidation_0-auc:0.639387\n",
            "[226]\tvalidation_0-auc:0.63943\n",
            "[227]\tvalidation_0-auc:0.639528\n",
            "[228]\tvalidation_0-auc:0.639565\n",
            "[229]\tvalidation_0-auc:0.639664\n",
            "[230]\tvalidation_0-auc:0.639726\n",
            "[231]\tvalidation_0-auc:0.63978\n",
            "[232]\tvalidation_0-auc:0.639828\n",
            "[233]\tvalidation_0-auc:0.639845\n",
            "[234]\tvalidation_0-auc:0.639982\n",
            "[235]\tvalidation_0-auc:0.640094\n",
            "[236]\tvalidation_0-auc:0.640187\n",
            "[237]\tvalidation_0-auc:0.640355\n",
            "[238]\tvalidation_0-auc:0.640442\n",
            "[239]\tvalidation_0-auc:0.640523\n",
            "[240]\tvalidation_0-auc:0.640599\n",
            "[241]\tvalidation_0-auc:0.640673\n",
            "[242]\tvalidation_0-auc:0.640774\n",
            "[243]\tvalidation_0-auc:0.640842\n",
            "[244]\tvalidation_0-auc:0.640944\n",
            "[245]\tvalidation_0-auc:0.640988\n",
            "[246]\tvalidation_0-auc:0.641075\n",
            "[247]\tvalidation_0-auc:0.641129\n",
            "[248]\tvalidation_0-auc:0.641203\n",
            "[249]\tvalidation_0-auc:0.641265\n",
            "[250]\tvalidation_0-auc:0.641296\n",
            "[251]\tvalidation_0-auc:0.641387\n",
            "[252]\tvalidation_0-auc:0.64145\n",
            "[253]\tvalidation_0-auc:0.64152\n",
            "[254]\tvalidation_0-auc:0.641546\n",
            "[255]\tvalidation_0-auc:0.641575\n",
            "[256]\tvalidation_0-auc:0.641675\n",
            "[257]\tvalidation_0-auc:0.641732\n",
            "[258]\tvalidation_0-auc:0.641877\n",
            "[259]\tvalidation_0-auc:0.641915\n",
            "[260]\tvalidation_0-auc:0.64196\n",
            "[261]\tvalidation_0-auc:0.642022\n",
            "[262]\tvalidation_0-auc:0.642219\n",
            "[263]\tvalidation_0-auc:0.642303\n",
            "[264]\tvalidation_0-auc:0.642349\n",
            "[265]\tvalidation_0-auc:0.642452\n",
            "[266]\tvalidation_0-auc:0.642514\n",
            "[267]\tvalidation_0-auc:0.642591\n",
            "[268]\tvalidation_0-auc:0.642647\n",
            "[269]\tvalidation_0-auc:0.642786\n",
            "[270]\tvalidation_0-auc:0.642837\n",
            "[271]\tvalidation_0-auc:0.642961\n",
            "[272]\tvalidation_0-auc:0.642974\n",
            "[273]\tvalidation_0-auc:0.643043\n",
            "[274]\tvalidation_0-auc:0.643095\n",
            "[275]\tvalidation_0-auc:0.643191\n",
            "[276]\tvalidation_0-auc:0.643245\n",
            "[277]\tvalidation_0-auc:0.643287\n",
            "[278]\tvalidation_0-auc:0.643317\n",
            "[279]\tvalidation_0-auc:0.643368\n",
            "[280]\tvalidation_0-auc:0.643435\n",
            "[281]\tvalidation_0-auc:0.643496\n",
            "[282]\tvalidation_0-auc:0.643539\n",
            "[283]\tvalidation_0-auc:0.643582\n",
            "[284]\tvalidation_0-auc:0.643595\n",
            "[285]\tvalidation_0-auc:0.643659\n",
            "[286]\tvalidation_0-auc:0.643737\n",
            "[287]\tvalidation_0-auc:0.643779\n",
            "[288]\tvalidation_0-auc:0.643862\n",
            "[289]\tvalidation_0-auc:0.643911\n",
            "[290]\tvalidation_0-auc:0.643961\n",
            "[291]\tvalidation_0-auc:0.644024\n",
            "[292]\tvalidation_0-auc:0.644064\n",
            "[293]\tvalidation_0-auc:0.644079\n",
            "[294]\tvalidation_0-auc:0.644121\n",
            "[295]\tvalidation_0-auc:0.644172\n",
            "[296]\tvalidation_0-auc:0.644245\n",
            "[297]\tvalidation_0-auc:0.644311\n",
            "[298]\tvalidation_0-auc:0.644319\n",
            "[299]\tvalidation_0-auc:0.6444\n"
          ],
          "name": "stdout"
        },
        {
          "output_type": "execute_result",
          "data": {
            "text/plain": [
              "XGBClassifier(base_score=0.5, booster='gbtree', colsample_bylevel=1,\n",
              "              colsample_bynode=1, colsample_bytree=0.8, gamma=0.1,\n",
              "              learning_rate=0.1, max_delta_step=0, max_depth=5,\n",
              "              min_child_weight=1, missing=None, n_estimators=300, n_jobs=1,\n",
              "              nthread=None, objective='binary:logistic', random_state=0,\n",
              "              reg_alpha=0, reg_lambda=1, scale_pos_weight=1, seed=None,\n",
              "              silent=None, subsample=0.8, verbosity=1)"
            ]
          },
          "metadata": {
            "tags": []
          },
          "execution_count": 25
        }
      ]
    },
    {
      "cell_type": "code",
      "metadata": {
        "colab": {
          "base_uri": "https://localhost:8080/"
        },
        "id": "6YAfk-UXypB1",
        "outputId": "b8d2b8f2-b56b-4c99-d1c2-166fc6931757"
      },
      "source": [
        "y_pred = model.predict(X_valid)\n",
        "predictions = [round(value) for value in y_pred]\n",
        "accuracy = accuracy_score(y_valid, predictions)\n",
        "print(\"Accuracy: %.2f%%\" % (accuracy * 100.0))"
      ],
      "execution_count": null,
      "outputs": [
        {
          "output_type": "stream",
          "text": [
            "Accuracy: 60.74%\n"
          ],
          "name": "stdout"
        }
      ]
    },
    {
      "cell_type": "code",
      "metadata": {
        "colab": {
          "base_uri": "https://localhost:8080/",
          "height": 322
        },
        "id": "VjfbWnEY_xxN",
        "outputId": "5626a3ed-77f7-4a73-e1b5-ec302cdf7430"
      },
      "source": [
        "from matplotlib import pyplot\n",
        "\n",
        "results = model.evals_result()\n",
        "print(results)\n",
        "epochs = len(results['validation_0']['auc'])\n",
        "x_axis = range(0, epochs)\n",
        "# plot log loss\n",
        "fig, ax = plt.subplots()\n",
        "ax.plot(x_axis, results['validation_0']['auc'], label='Train')\n",
        "ax.legend()\n",
        "pyplot.ylabel('AUC')\n",
        "pyplot.title('XGBoost AUC')\n",
        "pyplot.show()"
      ],
      "execution_count": null,
      "outputs": [
        {
          "output_type": "stream",
          "text": [
            "{'validation_0': {'auc': [0.566642, 0.574211, 0.584001, 0.587706, 0.586605, 0.59076, 0.591432, 0.591808, 0.592128, 0.593737, 0.59503, 0.595247, 0.595731, 0.596987, 0.599021, 0.599298, 0.599405, 0.599925, 0.600095, 0.600445, 0.600821, 0.601451, 0.602242, 0.603133, 0.603468, 0.604218, 0.604766, 0.605245, 0.605708, 0.606007, 0.606491, 0.607231, 0.607708, 0.608399, 0.60879, 0.609354, 0.609785, 0.610237, 0.610733, 0.610944, 0.611082, 0.612208, 0.612396, 0.612654, 0.612858, 0.61312, 0.613304, 0.613689, 0.614082, 0.614407, 0.614764, 0.615224, 0.615441, 0.615886, 0.616352, 0.616398, 0.616553, 0.616779, 0.616899, 0.617028, 0.617269, 0.617462, 0.618214, 0.61859, 0.618881, 0.619027, 0.61936, 0.619673, 0.61988, 0.620103, 0.620319, 0.620468, 0.620598, 0.620805, 0.62102, 0.621064, 0.621348, 0.621415, 0.621646, 0.62225, 0.622437, 0.622551, 0.622628, 0.62283, 0.623218, 0.623681, 0.624013, 0.624062, 0.624233, 0.624409, 0.62451, 0.624805, 0.624968, 0.625039, 0.62506, 0.625216, 0.625327, 0.625465, 0.625678, 0.625763, 0.625837, 0.626049, 0.626092, 0.626381, 0.626419, 0.626451, 0.626522, 0.626747, 0.626891, 0.627102, 0.627239, 0.627397, 0.627743, 0.627835, 0.627926, 0.627958, 0.628076, 0.628369, 0.628429, 0.628549, 0.628821, 0.628966, 0.629176, 0.629423, 0.629628, 0.629687, 0.629909, 0.629969, 0.630234, 0.630336, 0.630355, 0.630415, 0.630527, 0.630864, 0.630975, 0.630991, 0.631121, 0.631307, 0.63139, 0.631416, 0.63157, 0.631728, 0.631806, 0.631862, 0.631951, 0.632094, 0.632127, 0.632356, 0.632415, 0.632489, 0.632604, 0.632673, 0.63273, 0.632779, 0.632836, 0.633024, 0.633142, 0.633258, 0.633351, 0.633435, 0.633604, 0.633745, 0.633785, 0.633935, 0.633997, 0.63406, 0.634317, 0.634463, 0.634491, 0.634526, 0.634688, 0.634741, 0.634793, 0.634841, 0.634924, 0.635168, 0.635328, 0.63543, 0.635494, 0.635504, 0.635539, 0.635595, 0.635707, 0.635844, 0.635977, 0.636053, 0.636139, 0.636223, 0.636334, 0.636505, 0.636548, 0.636605, 0.63673, 0.636792, 0.636805, 0.636946, 0.63707, 0.637181, 0.637288, 0.637383, 0.637402, 0.637522, 0.637629, 0.637784, 0.637892, 0.637918, 0.637986, 0.63806, 0.638173, 0.638258, 0.638335, 0.638353, 0.638434, 0.638487, 0.638634, 0.638665, 0.638712, 0.638777, 0.638873, 0.638927, 0.639026, 0.639107, 0.639125, 0.639196, 0.639241, 0.639387, 0.63943, 0.639528, 0.639565, 0.639664, 0.639726, 0.63978, 0.639828, 0.639845, 0.639982, 0.640094, 0.640187, 0.640355, 0.640442, 0.640523, 0.640599, 0.640673, 0.640774, 0.640842, 0.640944, 0.640988, 0.641075, 0.641129, 0.641203, 0.641265, 0.641296, 0.641387, 0.64145, 0.64152, 0.641546, 0.641575, 0.641675, 0.641732, 0.641877, 0.641915, 0.64196, 0.642022, 0.642219, 0.642303, 0.642349, 0.642452, 0.642514, 0.642591, 0.642647, 0.642786, 0.642837, 0.642961, 0.642974, 0.643043, 0.643095, 0.643191, 0.643245, 0.643287, 0.643317, 0.643368, 0.643435, 0.643496, 0.643539, 0.643582, 0.643595, 0.643659, 0.643737, 0.643779, 0.643862, 0.643911, 0.643961, 0.644024, 0.644064, 0.644079, 0.644121, 0.644172, 0.644245, 0.644311, 0.644319, 0.6444]}}\n"
          ],
          "name": "stdout"
        },
        {
          "output_type": "display_data",
          "data": {
            "image/png": "[encoded data removed]",
            "text/plain": [
              "<Figure size 432x288 with 1 Axes>"
            ]
          },
          "metadata": {
            "tags": [],
            "needs_background": "light"
          }
        }
      ]
    },
    {
      "cell_type": "code",
      "metadata": {
        "id": "zTEEPj_d_zc2"
      },
      "source": [
        "import pickle\n",
        "pickle.dump(model, open(\"xgb_encoded.pickle.dat\", \"wb\"))"
      ],
      "execution_count": null,
      "outputs": []
    },
    {
      "cell_type": "code",
      "metadata": {
        "colab": {
          "base_uri": "https://localhost:8080/"
        },
        "id": "VvlCTOqI_1Ob",
        "outputId": "8d0d4725-999a-41a6-d219-38d4422ae9e8"
      },
      "source": [
        "\"\"\"\n",
        "Checking whether load and save is working okay\n",
        "\"\"\"\n",
        "loaded_model = pickle.load(open(\"xgb_encoded.pickle.dat\", \"rb\"))\n",
        "y_pred = loaded_model.predict(X_valid)\n",
        "predictions = [round(value) for value in y_pred]\n",
        "accuracy = accuracy_score(y_valid, predictions)\n",
        "print(\"Accuracy: %.2f%%\" % (accuracy * 100.0))"
      ],
      "execution_count": null,
      "outputs": [
        {
          "output_type": "stream",
          "text": [
            "Accuracy: 60.74%\n"
          ],
          "name": "stdout"
        }
      ]
    },
    {
      "cell_type": "markdown",
      "metadata": {
        "id": "2MuP6X3AmC-f"
      },
      "source": [
        "# Incremental Training for XGB\n",
        "\n",
        "Not needed anymore, found another fix, read apendix of technical report"
      ]
    },
    {
      "cell_type": "code",
      "metadata": {
        "id": "nkVU34jgLQ2A"
      },
      "source": [
        "# import xgboost\n",
        "# from numpy import loadtxt\n",
        "# from xgboost import XGBClassifier\n",
        "# from sklearn.model_selection import train_test_split\n",
        "# from sklearn.metrics import accuracy_score\n",
        "\n",
        "# BATCH_SIZE = 10**4\n",
        "# def trainXGB():\n",
        "#   model = None\n",
        "\n",
        "#   for i in range(np.shape(X)[0]//BATCH_SIZE):\n",
        "#     print(\"Iteration: \"+str(i))\n",
        "\n",
        "#     x = X[i*BATCH_SIZE:(i+1)*BATCH_SIZE]\n",
        "#     y = Y[i*BATCH_SIZE:(i+1)*BATCH_SIZE]\n",
        "\n",
        "#     x = model_inf(torch.tensor(x, dtype=torch.float)).detach().numpy()\n",
        "#     y = y\n",
        "\n",
        "#     seed = 7\n",
        "#     test_size = 0.08\n",
        "#     X_train, X_valid, y_train, y_valid = train_test_split(x, y, test_size=test_size, random_state=seed)\n",
        "\n",
        "#     eval_set = [(X_valid, y_valid)]\n",
        "#     model = xgboost.train({\n",
        "#             'update':'refresh',\n",
        "#             'process_type': 'update',\n",
        "#             'refresh_leaf': True,\n",
        "#             'silent': False,\n",
        "#             'obj': 'auc',\n",
        "#         }, dtrain=xgboost.DMatrix(X_train, y_train), xgb_model=model)\n",
        "#     y_pred = model.predict(xgboost.DMatrix(X_valid))\n",
        "#     predictions = [round(value) for value in y_pred]\n",
        "#     accuracy = accuracy_score(y_valid, predictions)\n",
        "#     print(\"Accuracy: %.2f%%\" % (accuracy * 100.0))\n",
        "\n",
        "#   return model"
      ],
      "execution_count": null,
      "outputs": []
    },
    {
      "cell_type": "code",
      "metadata": {
        "id": "U95SdvKe_t6o"
      },
      "source": [
        "# trained_model = trainXGB()"
      ],
      "execution_count": null,
      "outputs": []
    }
  ]
}