{
  "nbformat": 4,
  "nbformat_minor": 0,
  "metadata": {
    "colab": {
      "name": "DAE_DNN.ipynb",
      "provenance": [],
      "mount_file_id": "1XsCzmkDdt077BLIQfxAJ3FVUczAgKtzA",
      "authorship_tag": "ABX9TyO9Pxk52m5V4zbqblFhO5kj",
      "include_colab_link": true
    },
    "kernelspec": {
      "name": "python3",
      "display_name": "Python 3"
    },
    "language_info": {
      "name": "python"
    },
    "accelerator": "GPU"
  },
  "cells": [
    {
      "cell_type": "markdown",
      "metadata": {
        "id": "view-in-github",
        "colab_type": "text"
      },
      "source": [
        "<a href=\"https://colab.research.google.com/github/ShivenTripathi/Dimensionality-Reduction-CGM/blob/main/Part_3/ColabNotebooks/DAE_DNN.ipynb\" target=\"_parent\"><img src=\"https://colab.research.google.com/assets/colab-badge.svg\" alt=\"Open In Colab\"/></a>"
      ]
    },
    {
      "cell_type": "code",
      "metadata": {
        "id": "fQWAFC_mLBmi"
      },
      "source": [
        "%cd /content/gdrive/MyDrive/CGM\n",
        "!ls\n",
        "# !gzip \"/content/drive/MyDrive/CGM/dataset/HIGGS_6M.csv.gz\" -d \"/content/drive/MyDrive/CGM/dataset\""
      ],
      "execution_count": null,
      "outputs": []
    },
    {
      "cell_type": "code",
      "metadata": {
        "colab": {
          "base_uri": "https://localhost:8080/"
        },
        "id": "NLnws2fExYlx",
        "outputId": "e6a623f0-40ee-4d33-f28d-16b170af355f"
      },
      "source": [
        "!pip install -U fastbook"
      ],
      "execution_count": null,
      "outputs": [
        {
          "output_type": "stream",
          "text": [
            "      Successfully uninstalled torch-1.8.0+cu101\n",
            "  Found existing installation: torchvision 0.9.0+cu101\n",
            "    Uninstalling torchvision-0.9.0+cu101:\n",
            "      Successfully uninstalled torchvision-0.9.0+cu101\n",
            "  Found existing installation: fastai 1.0.61\n",
            "    Uninstalling fastai-1.0.61:\n",
            "      Successfully uninstalled fastai-1.0.61\n",
            "Successfully installed fastai-2.2.7 fastbook-0.0.16 fastcore-1.3.19 fastrelease-0.1.11 ghapi-0.1.16 nbdev-1.1.13 sentencepiece-0.1.95 torch-1.7.1 torchvision-0.8.2\n"
          ],
          "name": "stdout"
        }
      ]
    },
    {
      "cell_type": "markdown",
      "metadata": {
        "id": "aouYjpF7mgMw"
      },
      "source": [
        "# Loading and processing dataset\n",
        "\n",
        "* Standard Scaling\n",
        "* Min Max Scaling"
      ]
    },
    {
      "cell_type": "code",
      "metadata": {
        "id": "4sIe8QOlAqgl"
      },
      "source": [
        "df=pd.read_csv(\"dataset/HIGGS_6M.csv\")\n",
        "dataset=df.to_numpy()\n",
        "X = dataset[:,1:]\n",
        "Y = dataset[:,0].astype(int)\n",
        "print(X[0],Y[0])\n",
        "print(np.shape(X),np.shape(X[0]),np.shape(Y),np.shape(Y[0]))\n",
        "from sklearn.preprocessing import StandardScaler\n",
        "from sklearn.preprocessing import MinMaxScaler\n",
        "\n",
        "scaler = StandardScaler()\n",
        "categorical=[0,9,13,17,21]\n",
        "\n",
        "for index in range(28):\n",
        "  X[:,index]=scaler.fit_transform(X[:,index].reshape(-1,1)).reshape(-1)\n",
        "\n",
        "scaler = MinMaxScaler()\n",
        "for index in range(28):\n",
        "  X[:,index]=scaler.fit_transform(X[:,index].reshape(-1,1)).reshape(-1)"
      ],
      "execution_count": null,
      "outputs": []
    },
    {
      "cell_type": "code",
      "metadata": {
        "id": "5RhQgpQvyEHB"
      },
      "source": [
        "import pandas as pd\n",
        "import matplotlib.pyplot as plt\n",
        "from sklearn import preprocessing\n",
        "from sklearn.model_selection import train_test_split\n",
        "import fastbook\n",
        "fastbook.setup_book()\n",
        "from fastai.metrics import mse\n",
        "import torch\n",
        "import torch.nn as nn\n",
        "import torch.optim as optim\n",
        "import torch.utils.data\n",
        "from torch.autograd import Variable\n",
        "from torch.utils.data import TensorDataset\n",
        "from torch.utils.data import DataLoader\n",
        "from fastai import learner\n",
        "from fastai.data import core\n",
        "import time\n",
        "from fastai.callback import schedule\n",
        "import os\n",
        "import numpy as np\n",
        "from scipy import stats\n",
        "import seaborn as sns"
      ],
      "execution_count": null,
      "outputs": []
    },
    {
      "cell_type": "markdown",
      "metadata": {
        "id": "dazDsES4moPK"
      },
      "source": [
        "# Compiling DAE model"
      ]
    },
    {
      "cell_type": "code",
      "metadata": {
        "colab": {
          "base_uri": "https://localhost:8080/"
        },
        "id": "9XElbctH-41M",
        "outputId": "9ea7b2be-953c-41de-8815-719ceed2782b"
      },
      "source": [
        "class AE_4D_300_LeakyReLU(nn.Module):\n",
        "    def __init__(self, n_features=28,bottle_neck=8):\n",
        "        super(AE_4D_300_LeakyReLU, self).__init__()\n",
        "        self.en1 = nn.Linear(n_features, 300)\n",
        "        self.en2 = nn.Linear(300, 200)\n",
        "        self.en3 = nn.Linear(200, 100)\n",
        "        self.en4 = nn.Linear(100,50)\n",
        "        self.en5 = nn.Linear(50, bottle_neck)\n",
        "        self.de1 = nn.Linear(bottle_neck, 50)\n",
        "        self.de2 = nn.Linear(50, 100)\n",
        "        self.de3 = nn.Linear(100, 200)\n",
        "        self.de4 = nn.Linear(200,300)\n",
        "        self.de5 = nn.Linear(300, n_features)\n",
        "        self.tanh = nn.Tanh()\n",
        "\n",
        "    def encode(self, x):\n",
        "        return self.en5(self.tanh(self.en4(self.tanh(self.en3(self.tanh(self.en2(self.tanh(self.en1(x)))))))))\n",
        "\n",
        "    def decode(self, x):\n",
        "        return self.de5(self.tanh(self.de4(self.tanh(self.de3(self.tanh(self.de2(self.tanh(self.de1(self.tanh(x))))))))))\n",
        "\n",
        "    def forward(self, x):\n",
        "        z = self.encode(x)\n",
        "        return self.decode(z)\n",
        "\n",
        "model = AE_4D_300_LeakyReLU()\n",
        "model.to('cpu')"
      ],
      "execution_count": null,
      "outputs": [
        {
          "output_type": "execute_result",
          "data": {
            "text/plain": [
              "AE_4D_300_LeakyReLU(\n",
              "  (en1): Linear(in_features=28, out_features=300, bias=True)\n",
              "  (en2): Linear(in_features=300, out_features=200, bias=True)\n",
              "  (en3): Linear(in_features=200, out_features=100, bias=True)\n",
              "  (en4): Linear(in_features=100, out_features=50, bias=True)\n",
              "  (en5): Linear(in_features=50, out_features=8, bias=True)\n",
              "  (de1): Linear(in_features=8, out_features=50, bias=True)\n",
              "  (de2): Linear(in_features=50, out_features=100, bias=True)\n",
              "  (de3): Linear(in_features=100, out_features=200, bias=True)\n",
              "  (de4): Linear(in_features=200, out_features=300, bias=True)\n",
              "  (de5): Linear(in_features=300, out_features=28, bias=True)\n",
              "  (tanh): Tanh()\n",
              ")"
            ]
          },
          "metadata": {
            "tags": []
          },
          "execution_count": 16
        }
      ]
    },
    {
      "cell_type": "markdown",
      "metadata": {
        "id": "r0guaeBGmuEV"
      },
      "source": [
        "# Loading DAE Model from Drive"
      ]
    },
    {
      "cell_type": "code",
      "metadata": {
        "colab": {
          "base_uri": "https://localhost:8080/"
        },
        "id": "6oPBspaT8wM0",
        "outputId": "a21a3169-79ad-4d77-b529-44d9d0087c2e"
      },
      "source": [
        "model_inf = AE_4D_300_LeakyReLU()\n",
        "model_inf.to('cpu')\n",
        "model_inf.load_state_dict(torch.load(\"dae_model/model.pth\"))"
      ],
      "execution_count": null,
      "outputs": [
        {
          "output_type": "execute_result",
          "data": {
            "text/plain": [
              "<All keys matched successfully>"
            ]
          },
          "metadata": {
            "tags": []
          },
          "execution_count": 17
        }
      ]
    },
    {
      "cell_type": "markdown",
      "metadata": {
        "id": "2kDoKKEtmww8"
      },
      "source": [
        "# Generating Encoded Input from DAE Model\n",
        "\n",
        "You can skip this, next cell loads this from Drive"
      ]
    },
    {
      "cell_type": "code",
      "metadata": {
        "id": "4a92N3f3Q9Qw"
      },
      "source": [
        "from tqdm import tqdm\n",
        "\n",
        "for i in tqdm(range(np.shape(X)[0]//10**6)):\n",
        "  data = torch.tensor(X[i*(10**6):(i+1)*(10**6)], dtype=torch.float)\n",
        "  pred = model_inf.encode(data)\n",
        "  pred = pred.detach().numpy()\n",
        "  pred = pred.T\n",
        "  # pred = np.reshape(pred,(np.shape(pred)[0],1))\n",
        "  if i is 0:\n",
        "    x=pred\n",
        "  # save(str(i)+'.npy', pred)\n",
        "  else:\n",
        "    x=np.concatenate((x,pred),axis=-1)\n",
        "data = torch.tensor(X[(i+1)*(10**6):], dtype=torch.float)\n",
        "pred = model_inf.encode(data)\n",
        "pred = pred.detach().numpy()\n",
        "pred = pred.T\n",
        "x=np.concatenate((x,pred),axis=-1)"
      ],
      "execution_count": null,
      "outputs": []
    },
    {
      "cell_type": "code",
      "metadata": {
        "colab": {
          "base_uri": "https://localhost:8080/"
        },
        "id": "9GCmVGgzx1Rl",
        "outputId": "de6df8a6-5e46-48e1-df2e-34bc9b235002"
      },
      "source": [
        "print(np.shape(x))\n",
        "x=x.T\n",
        "print(np.shape(x))\n",
        "np.save(\"encoded_x_6M.npy\",x)\n",
        "X = x\n",
        "del x"
      ],
      "execution_count": null,
      "outputs": [
        {
          "output_type": "stream",
          "text": [
            "(8, 5999999)\n",
            "(5999999, 8)\n"
          ],
          "name": "stdout"
        }
      ]
    },
    {
      "cell_type": "code",
      "metadata": {
        "colab": {
          "base_uri": "https://localhost:8080/"
        },
        "id": "Q4ne25r0g4ZF",
        "outputId": "78ddd4f6-b667-4ff2-bbc4-b6d60d1d9e43"
      },
      "source": [
        "X = np.load(\"encoded_x_6M.npy\")\n",
        "print(np.shape(X), np.shape(Y))"
      ],
      "execution_count": null,
      "outputs": [
        {
          "output_type": "stream",
          "text": [
            "(5999999, 8) (5999999,)\n"
          ],
          "name": "stdout"
        }
      ]
    },
    {
      "cell_type": "code",
      "metadata": {
        "id": "BJPHe3tthWGq"
      },
      "source": [
        "test_size = 0.16\n",
        "seed = 7\n",
        "X_train, X_valid, y_train, y_valid = train_test_split(X, Y, test_size=test_size, random_state=seed)\n",
        "X_valid, X_test, y_valid, y_test = train_test_split(X_valid, y_valid, test_size=0.5, random_state=seed)"
      ],
      "execution_count": null,
      "outputs": []
    },
    {
      "cell_type": "code",
      "metadata": {
        "colab": {
          "base_uri": "https://localhost:8080/"
        },
        "id": "qP9A2EiihXoE",
        "outputId": "f9f02c0c-9cdf-4122-d070-9f40af1a84a9"
      },
      "source": [
        "print(np.shape(X_valid), np.shape(X_test), np.shape(X_train))\n",
        "print(np.shape(y_valid), np.shape(y_test), np.shape(y_train))"
      ],
      "execution_count": null,
      "outputs": [
        {
          "output_type": "stream",
          "text": [
            "(480000, 8) (480000, 8) (5039999, 8)\n",
            "(480000,) (480000,) (5039999,)\n"
          ],
          "name": "stdout"
        }
      ]
    },
    {
      "cell_type": "markdown",
      "metadata": {
        "id": "GvnkijxEm3pD"
      },
      "source": [
        "# Training DNN Classifier on Encoded input\n",
        "\n",
        "You can skip training, last cell loads the model"
      ]
    },
    {
      "cell_type": "code",
      "metadata": {
        "colab": {
          "base_uri": "https://localhost:8080/"
        },
        "id": "xY9OKU4wg9BI",
        "outputId": "e451a2d5-a2fe-4fde-e524-2d2aab12365d"
      },
      "source": [
        "import tensorflow as tf\n",
        "from tensorflow import keras\n",
        "from sklearn.model_selection import cross_val_score\n",
        "\n",
        "METRICS = [\n",
        "      keras.metrics.TruePositives(name='tp'),\n",
        "      keras.metrics.FalsePositives(name='fp'),\n",
        "      keras.metrics.TrueNegatives(name='tn'),\n",
        "      keras.metrics.FalseNegatives(name='fn'), \n",
        "      keras.metrics.BinaryAccuracy(name='accuracy'),\n",
        "      keras.metrics.Precision(name='precision'),\n",
        "      keras.metrics.Recall(name='recall'),\n",
        "      keras.metrics.AUC(name='auc'),\n",
        "]\n",
        "\n",
        "model = tf.keras.Sequential()\n",
        "model.add(tf.keras.layers.Dense(128, activation='relu'))\n",
        "model.add(tf.keras.layers.Dropout(0.2))\n",
        "model.add(tf.keras.layers.Dense(64, activation='relu'))\n",
        "model.add(tf.keras.layers.Dropout(0.1))\n",
        "model.add(tf.keras.layers.Dense(8, activation='relu'))\n",
        "model.add(tf.keras.layers.Dense(1, activation='sigmoid'))\n",
        "model.compile(optimizer='adam', loss='binary_crossentropy', metrics=METRICS)\n",
        "baseline_history=model.fit(X_train, y_train, batch_size=256, epochs=10, validation_data=(X_valid,y_valid))\n",
        "model.summary()"
      ],
      "execution_count": null,
      "outputs": [
        {
          "output_type": "stream",
          "text": [
            "Epoch 1/10\n",
            "19688/19688 [==============================] - 126s 6ms/step - loss: 0.6803 - tp: 1006425.6283 - fp: 756422.2553 - tn: 428888.1120 - fn: 328583.9783 - accuracy: 0.5650 - precision: 0.5671 - recall: 0.7550 - auc: 0.5814 - val_loss: 0.6699 - val_tp: 198201.0000 - val_fp: 141172.0000 - val_tn: 84345.0000 - val_fn: 56282.0000 - val_accuracy: 0.5886 - val_precision: 0.5840 - val_recall: 0.7788 - val_auc: 0.6142\n",
            "Epoch 2/10\n",
            "19688/19688 [==============================] - 120s 6ms/step - loss: 0.6718 - tp: 989926.7178 - fp: 701245.0660 - tn: 484807.9776 - fn: 344340.2126 - accuracy: 0.5845 - precision: 0.5846 - recall: 0.7420 - auc: 0.6089 - val_loss: 0.6666 - val_tp: 184685.0000 - val_fp: 124510.0000 - val_tn: 101007.0000 - val_fn: 69798.0000 - val_accuracy: 0.5952 - val_precision: 0.5973 - val_recall: 0.7257 - val_auc: 0.6232\n",
            "Epoch 3/10\n",
            "19688/19688 [==============================] - 120s 6ms/step - loss: 0.6691 - tp: 984890.1769 - fp: 683756.6653 - tn: 501901.5898 - fn: 349771.5419 - accuracy: 0.5897 - precision: 0.5900 - recall: 0.7387 - auc: 0.6161 - val_loss: 0.6641 - val_tp: 188624.0000 - val_fp: 126410.0000 - val_tn: 99107.0000 - val_fn: 65859.0000 - val_accuracy: 0.5994 - val_precision: 0.5987 - val_recall: 0.7412 - val_auc: 0.6296\n",
            "Epoch 4/10\n",
            "19688/19688 [==============================] - 119s 6ms/step - loss: 0.6672 - tp: 979515.8193 - fp: 670015.5626 - tn: 515235.8938 - fn: 355552.6982 - accuracy: 0.5931 - precision: 0.5939 - recall: 0.7342 - auc: 0.6212 - val_loss: 0.6626 - val_tp: 189279.0000 - val_fp: 126276.0000 - val_tn: 99241.0000 - val_fn: 65204.0000 - val_accuracy: 0.6011 - val_precision: 0.5998 - val_recall: 0.7438 - val_auc: 0.6334\n",
            "Epoch 5/10\n",
            "19688/19688 [==============================] - 118s 6ms/step - loss: 0.6664 - tp: 972982.1298 - fp: 659388.6179 - tn: 526498.8122 - fn: 361450.4140 - accuracy: 0.5949 - precision: 0.5958 - recall: 0.7292 - auc: 0.6240 - val_loss: 0.6616 - val_tp: 182800.0000 - val_fp: 118598.0000 - val_tn: 106919.0000 - val_fn: 71683.0000 - val_accuracy: 0.6036 - val_precision: 0.6065 - val_recall: 0.7183 - val_auc: 0.6367\n",
            "Epoch 6/10\n",
            "19688/19688 [==============================] - 118s 6ms/step - loss: 0.6654 - tp: 964770.9988 - fp: 647605.7828 - tn: 538040.0541 - fn: 369903.1381 - accuracy: 0.5960 - precision: 0.5981 - recall: 0.7220 - auc: 0.6265 - val_loss: 0.6598 - val_tp: 187696.0000 - val_fp: 122868.0000 - val_tn: 102649.0000 - val_fn: 66787.0000 - val_accuracy: 0.6049 - val_precision: 0.6044 - val_recall: 0.7376 - val_auc: 0.6395\n",
            "Epoch 7/10\n",
            "19688/19688 [==============================] - 119s 6ms/step - loss: 0.6641 - tp: 960685.9479 - fp: 638873.2369 - tn: 546361.0980 - fn: 374399.6910 - accuracy: 0.5982 - precision: 0.6008 - recall: 0.7200 - auc: 0.6296 - val_loss: 0.6595 - val_tp: 186077.0000 - val_fp: 120810.0000 - val_tn: 104707.0000 - val_fn: 68406.0000 - val_accuracy: 0.6058 - val_precision: 0.6063 - val_recall: 0.7312 - val_auc: 0.6403\n",
            "Epoch 8/10\n",
            "19688/19688 [==============================] - 118s 6ms/step - loss: 0.6637 - tp: 954475.0623 - fp: 631317.5875 - tn: 554320.3116 - fn: 380207.0124 - accuracy: 0.5988 - precision: 0.6020 - recall: 0.7144 - auc: 0.6307 - val_loss: 0.6587 - val_tp: 181575.0000 - val_fp: 115665.0000 - val_tn: 109852.0000 - val_fn: 72908.0000 - val_accuracy: 0.6071 - val_precision: 0.6109 - val_recall: 0.7135 - val_auc: 0.6424\n",
            "Epoch 9/10\n",
            "19688/19688 [==============================] - 119s 6ms/step - loss: 0.6631 - tp: 956094.3890 - fp: 629693.8416 - tn: 555445.2870 - fn: 379086.4563 - accuracy: 0.5996 - precision: 0.6027 - recall: 0.7168 - auc: 0.6321 - val_loss: 0.6584 - val_tp: 191196.0000 - val_fp: 125325.0000 - val_tn: 100192.0000 - val_fn: 63287.0000 - val_accuracy: 0.6071 - val_precision: 0.6041 - val_recall: 0.7513 - val_auc: 0.6435\n",
            "Epoch 10/10\n",
            "19688/19688 [==============================] - 118s 6ms/step - loss: 0.6628 - tp: 953854.8509 - fp: 626932.4865 - tn: 558582.6568 - fn: 380949.9797 - accuracy: 0.6001 - precision: 0.6034 - recall: 0.7150 - auc: 0.6326 - val_loss: 0.6576 - val_tp: 182529.0000 - val_fp: 115414.0000 - val_tn: 110103.0000 - val_fn: 71954.0000 - val_accuracy: 0.6097 - val_precision: 0.6126 - val_recall: 0.7173 - val_auc: 0.6453\n",
            "Model: \"sequential\"\n",
            "_________________________________________________________________\n",
            "Layer (type)                 Output Shape              Param #   \n",
            "=================================================================\n",
            "dense (Dense)                (None, 128)               1152      \n",
            "_________________________________________________________________\n",
            "dropout (Dropout)            (None, 128)               0         \n",
            "_________________________________________________________________\n",
            "dense_1 (Dense)              (None, 64)                8256      \n",
            "_________________________________________________________________\n",
            "dropout_1 (Dropout)          (None, 64)                0         \n",
            "_________________________________________________________________\n",
            "dense_2 (Dense)              (None, 8)                 520       \n",
            "_________________________________________________________________\n",
            "dense_3 (Dense)              (None, 1)                 9         \n",
            "=================================================================\n",
            "Total params: 9,937\n",
            "Trainable params: 9,937\n",
            "Non-trainable params: 0\n",
            "_________________________________________________________________\n"
          ],
          "name": "stdout"
        }
      ]
    },
    {
      "cell_type": "code",
      "metadata": {
        "colab": {
          "base_uri": "https://localhost:8080/",
          "height": 290
        },
        "id": "h_1fIFspg9Lr",
        "outputId": "84205b5d-aeff-4dc1-e60e-9a30f337b037"
      },
      "source": [
        "def plot_metrics(history):\n",
        "  metrics = ['loss', 'auc', 'precision', 'recall']\n",
        "  for n, metric in enumerate(metrics):\n",
        "    name = metric.replace(\"_\",\" \").capitalize()\n",
        "    plt.subplot(2,2,n+1)\n",
        "    plt.plot(history.epoch, history.history[metric], color=colors[0], label='Train')\n",
        "    plt.plot(history.epoch, history.history['val_'+metric],\n",
        "             color=colors[0], linestyle=\"--\", label='Val')\n",
        "    plt.xlabel('Epoch')\n",
        "    plt.ylabel(name)\n",
        "    if metric == 'loss':\n",
        "      plt.ylim([0, plt.ylim()[1]])\n",
        "    elif metric == 'auc':\n",
        "      plt.ylim([0.8,1])\n",
        "    else:\n",
        "      plt.ylim([0,1])\n",
        "\n",
        "    plt.legend()\n",
        "\n",
        "plot_metrics(baseline_history)"
      ],
      "execution_count": null,
      "outputs": [
        {
          "output_type": "display_data",
          "data": {
            "image/png": "[encoded data removed]",
            "text/plain": [
              "<Figure size 432x288 with 4 Axes>"
            ]
          },
          "metadata": {
            "tags": [],
            "needs_background": "light"
          }
        }
      ]
    },
    {
      "cell_type": "code",
      "metadata": {
        "id": "m3TfFvpLg9Ou"
      },
      "source": [
        "BATCH_SIZE = 256\n",
        "\n",
        "train_predictions_baseline = model.predict(X_train, batch_size=BATCH_SIZE)\n",
        "test_predictions_baseline = model.predict(X_test, batch_size=BATCH_SIZE)"
      ],
      "execution_count": null,
      "outputs": []
    },
    {
      "cell_type": "code",
      "metadata": {
        "id": "Xs5infKhg9RO"
      },
      "source": [
        "from sklearn.metrics import confusion_matrix\n",
        "\n",
        "def plot_cm(labels, predictions, p=0.5):\n",
        "  cm = confusion_matrix(labels, predictions > p)\n",
        "  plt.figure(figsize=(5,5))\n",
        "  sns.heatmap(cm, annot=True, fmt=\"d\")\n",
        "  plt.title('Confusion matrix @{:.2f}'.format(p))\n",
        "  plt.ylabel('Actual label')\n",
        "  plt.xlabel('Predicted label')\n",
        "\n",
        "  print('(True Negatives): ', cm[0][0])\n",
        "  print('(False Positives): ', cm[0][1])\n",
        "  print('(False Negatives): ', cm[1][0])\n",
        "  print('(True Positives): ', cm[1][1])"
      ],
      "execution_count": null,
      "outputs": []
    },
    {
      "cell_type": "code",
      "metadata": {
        "colab": {
          "base_uri": "https://localhost:8080/",
          "height": 595
        },
        "id": "4WZQ_RlFg9VP",
        "outputId": "ac4b6b6c-e2b9-4fc8-c09f-53cbbd974e0d"
      },
      "source": [
        "baseline_results = model.evaluate(X_test, y_test,\n",
        "                                  batch_size=BATCH_SIZE, verbose=0)\n",
        "for name, value in zip(model.metrics_names, baseline_results):\n",
        "  print(name, ': ', value)\n",
        "print()\n",
        "\n",
        "plot_cm(y_test, test_predictions_baseline)"
      ],
      "execution_count": null,
      "outputs": [
        {
          "output_type": "stream",
          "text": [
            "loss :  0.6572193503379822\n",
            "tp :  182473.0\n",
            "fp :  115534.0\n",
            "tn :  109986.0\n",
            "fn :  72007.0\n",
            "accuracy :  0.6092895865440369\n",
            "precision :  0.6123111248016357\n",
            "recall :  0.7170426249504089\n",
            "auc :  0.646093487739563\n",
            "\n",
            "(True Negatives):  109986\n",
            "(False Positives):  115534\n",
            "(False Negatives):  72007\n",
            "(True Positives):  182473\n"
          ],
          "name": "stdout"
        },
        {
          "output_type": "display_data",
          "data": {
            "image/png": "[encoded data removed]",
            "text/plain": [
              "<Figure size 360x360 with 2 Axes>"
            ]
          },
          "metadata": {
            "tags": [],
            "needs_background": "light"
          }
        }
      ]
    },
    {
      "cell_type": "code",
      "metadata": {
        "id": "OZSmIApUiAyJ"
      },
      "source": [
        "def plot_roc(name, labels, predictions, **kwargs):\n",
        "  fp, tp, _ = sklearn.metrics.roc_curve(labels, predictions)\n",
        "\n",
        "  plt.plot(100*fp, 100*tp, label=name, linewidth=2,**kwargs)\n",
        "  plt.xlabel('False positives [%]')\n",
        "  plt.ylabel('True positives [%]')\n",
        "  # plt.xlim([20,100])\n",
        "  # plt.ylim([80,100])\n",
        "  plt.grid(True)\n",
        "  ax = plt.gca()\n",
        "  ax.set_aspect('equal')"
      ],
      "execution_count": null,
      "outputs": []
    },
    {
      "cell_type": "code",
      "metadata": {
        "colab": {
          "base_uri": "https://localhost:8080/",
          "height": 285
        },
        "id": "FTAjXbE5iA01",
        "outputId": "57255bb6-abec-4551-e95f-31c8b6ba8909"
      },
      "source": [
        "colors = plt.rcParams['axes.prop_cycle'].by_key()['color']\n",
        "import sklearn\n",
        "plot_roc(\"Train Baseline\",np.reshape(y_train,(np.shape(y_train)[0],1)),train_predictions_baseline, color=colors[0])\n",
        "plot_roc(\"Test Baseline\", y_test, test_predictions_baseline, color=colors[1], linestyle='--')\n",
        "plt.legend(loc='lower right')\n",
        "plt.show()"
      ],
      "execution_count": null,
      "outputs": [
        {
          "output_type": "display_data",
          "data": {
            "image/png": "[encoded data removed]",
            "text/plain": [
              "<Figure size 432x288 with 1 Axes>"
            ]
          },
          "metadata": {
            "tags": [],
            "needs_background": "light"
          }
        }
      ]
    },
    {
      "cell_type": "code",
      "metadata": {
        "colab": {
          "base_uri": "https://localhost:8080/"
        },
        "id": "dA3U1RFQiA3B",
        "outputId": "cb27620e-2a72-454e-c157-d0bf5f0f0249"
      },
      "source": [
        "model.save(\"DNN_DAE_model\")"
      ],
      "execution_count": null,
      "outputs": [
        {
          "output_type": "stream",
          "text": [
            "INFO:tensorflow:Assets written to: DNN_DAE_model/assets\n"
          ],
          "name": "stdout"
        }
      ]
    },
    {
      "cell_type": "markdown",
      "metadata": {
        "id": "5FUf-d0FnBj6"
      },
      "source": [
        "# Load DNN model from Drive"
      ]
    },
    {
      "cell_type": "code",
      "metadata": {
        "id": "UcyMcpnfiA5h"
      },
      "source": [
        "model = keras.models.load_model('DNN_DAE_model')\n"
      ],
      "execution_count": null,
      "outputs": []
    }
  ]
}