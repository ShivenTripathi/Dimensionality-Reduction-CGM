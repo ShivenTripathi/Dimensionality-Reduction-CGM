{
  "nbformat": 4,
  "nbformat_minor": 0,
  "metadata": {
    "colab": {
      "name": "VanillaDNN.ipynb",
      "provenance": [],
      "mount_file_id": "1Np-p3oG708NkTJJbKN-6aP6za4yYelzp",
      "authorship_tag": "ABX9TyNXZ7L8/7StLbkA5sK5AeKr",
      "include_colab_link": true
    },
    "kernelspec": {
      "name": "python3",
      "display_name": "Python 3"
    },
    "language_info": {
      "name": "python"
    },
    "accelerator": "GPU"
  },
  "cells": [
    {
      "cell_type": "markdown",
      "metadata": {
        "id": "view-in-github",
        "colab_type": "text"
      },
      "source": [
        "<a href=\"https://colab.research.google.com/github/ShivenTripathi/Dimensionality-Reduction-CGM/blob/main/Part_3/ColabNotebooks/VanillaDNN.ipynb\" target=\"_parent\"><img src=\"https://colab.research.google.com/assets/colab-badge.svg\" alt=\"Open In Colab\"/></a>"
      ]
    },
    {
      "cell_type": "code",
      "metadata": {
        "id": "fQWAFC_mLBmi"
      },
      "source": [
        "%cd /content/drive/MyDrive/CGM\n",
        "!ls\n",
        "# !gzip \"/content/drive/MyDrive/CGM/dataset/HIGGS_6M.csv.gz\" -d \"/content/drive/MyDrive/CGM/dataset\""
      ],
      "execution_count": null,
      "outputs": []
    },
    {
      "cell_type": "code",
      "metadata": {
        "id": "5RhQgpQvyEHB"
      },
      "source": [
        "import pandas as pd\n",
        "import matplotlib.pyplot as plt\n",
        "from sklearn import preprocessing\n",
        "from sklearn.model_selection import train_test_split\n",
        "import numpy as np\n",
        "from scipy import stats\n",
        "import seaborn as sns"
      ],
      "execution_count": null,
      "outputs": []
    },
    {
      "cell_type": "code",
      "metadata": {
        "id": "ldY_EJHRsAYC"
      },
      "source": [
        "df=pd.read_csv(\"dataset/HIGGS_6M.csv\")"
      ],
      "execution_count": null,
      "outputs": []
    },
    {
      "cell_type": "markdown",
      "metadata": {
        "id": "hJpUv_d7j-JP"
      },
      "source": [
        "# Preprocessing\n",
        "\n",
        "* Standard Scaling\n",
        "* Min Max Scaling\n",
        "\n",
        "You can skip training, jump to the last cell to load from drive"
      ]
    },
    {
      "cell_type": "code",
      "metadata": {
        "colab": {
          "base_uri": "https://localhost:8080/"
        },
        "id": "fPVV45XvG76n",
        "outputId": "535cf95a-fdf5-4258-d937-a6a5f5dec2a9"
      },
      "source": [
        "dataset = df.to_numpy()\n",
        "X = dataset[:,1:]\n",
        "Y = dataset[:,0].astype(int)\n",
        "print(X[0],Y[0])\n",
        "print(np.shape(X),np.shape(X[0]),np.shape(Y),np.shape(Y[0]))"
      ],
      "execution_count": null,
      "outputs": [
        {
          "output_type": "stream",
          "text": [
            "[ 9.07542109e-01  3.29147279e-01  3.59411865e-01  1.49796987e+00\n",
            " -3.13009530e-01  1.09553063e+00 -5.57524920e-01 -1.58822978e+00\n",
            "  2.17307615e+00  8.12581182e-01 -2.13641927e-01  1.27101457e+00\n",
            "  2.21487212e+00  4.99993950e-01 -1.26143181e+00  7.32156157e-01\n",
            "  0.00000000e+00  3.98700893e-01 -1.13893008e+00 -8.19110195e-04\n",
            "  0.00000000e+00  3.02219898e-01  8.33048165e-01  9.85699654e-01\n",
            "  9.78098392e-01  7.79732168e-01  9.92355764e-01  7.98342586e-01] 1\n",
            "(5999999, 28) (28,) (5999999,) ()\n"
          ],
          "name": "stdout"
        }
      ]
    },
    {
      "cell_type": "code",
      "metadata": {
        "id": "RC_N_DA_yfcB"
      },
      "source": [
        "from sklearn.preprocessing import StandardScaler\n",
        "from sklearn.preprocessing import MinMaxScaler\n",
        "\n",
        "scaler = StandardScaler()\n",
        "categorical=[0,9,13,17,21]\n",
        "\n",
        "for index in range(28):\n",
        "  X[:,index]=scaler.fit_transform(X[:,index].reshape(-1,1)).reshape(-1)\n",
        "\n",
        "scaler = MinMaxScaler()\n",
        "for index in range(28):\n",
        "  X[:,index]=scaler.fit_transform(X[:,index].reshape(-1,1)).reshape(-1)"
      ],
      "execution_count": null,
      "outputs": []
    },
    {
      "cell_type": "code",
      "metadata": {
        "colab": {
          "base_uri": "https://localhost:8080/",
          "height": 264
        },
        "id": "rSfTiK4OHhJW",
        "outputId": "547e2242-35a2-49b3-dad7-4200eaa1af34"
      },
      "source": [
        "fig, axes = plt.subplots(4,7)\n",
        "for i in range(28):\n",
        "  axes[i//7][i%7].hist(X[:,i],bins='auto')\n",
        "  axes[i//7][i%7].set_title(str(i+1))\n",
        "  axes[i//7][i%7].axis('off')"
      ],
      "execution_count": null,
      "outputs": [
        {
          "output_type": "display_data",
          "data": {
            "image/png": "[encoded data removed]",
            "text/plain": [
              "<Figure size 432x288 with 28 Axes>"
            ]
          },
          "metadata": {
            "tags": [],
            "needs_background": "light"
          }
        }
      ]
    },
    {
      "cell_type": "code",
      "metadata": {
        "id": "wzaTZN3qJfRb"
      },
      "source": [
        "test_size = 0.16\n",
        "seed = 7\n",
        "X_train, X_valid, y_train, y_valid = train_test_split(X, Y, test_size=test_size, random_state=seed)\n",
        "X_valid, X_test, y_valid, y_test = train_test_split(X_valid, y_valid, test_size=0.5, random_state=seed)"
      ],
      "execution_count": null,
      "outputs": []
    },
    {
      "cell_type": "code",
      "metadata": {
        "colab": {
          "base_uri": "https://localhost:8080/"
        },
        "id": "6hrpmJKJJw-E",
        "outputId": "634a5849-321c-4ac9-b88c-f4f2ff20ce1b"
      },
      "source": [
        "print(np.shape(X_valid), np.shape(X_test), np.shape(X_train))"
      ],
      "execution_count": null,
      "outputs": [
        {
          "output_type": "stream",
          "text": [
            "(480000, 28) (480000, 28) (5039999, 28)\n"
          ],
          "name": "stdout"
        }
      ]
    },
    {
      "cell_type": "code",
      "metadata": {
        "colab": {
          "base_uri": "https://localhost:8080/"
        },
        "id": "T0Rx3S93K85l",
        "outputId": "3e205c7b-fa3b-4a1c-de4c-7c0374ec64a6"
      },
      "source": [
        "print(np.shape(y_valid), np.shape(y_test), np.shape(y_train))"
      ],
      "execution_count": null,
      "outputs": [
        {
          "output_type": "stream",
          "text": [
            "(480000,) (480000,) (5039999,)\n"
          ],
          "name": "stdout"
        }
      ]
    },
    {
      "cell_type": "markdown",
      "metadata": {
        "id": "GO_hk_QYkQh9"
      },
      "source": [
        "# Training on 4 layer DNN"
      ]
    },
    {
      "cell_type": "code",
      "metadata": {
        "colab": {
          "base_uri": "https://localhost:8080/"
        },
        "id": "gOZDckPmKI79",
        "outputId": "dcfe7edf-f3b6-4e1b-90f4-a60f252461b0"
      },
      "source": [
        "import tensorflow as tf\n",
        "from tensorflow import keras\n",
        "from sklearn.model_selection import cross_val_score\n",
        "\n",
        "METRICS = [\n",
        "      keras.metrics.TruePositives(name='tp'),\n",
        "      keras.metrics.FalsePositives(name='fp'),\n",
        "      keras.metrics.TrueNegatives(name='tn'),\n",
        "      keras.metrics.FalseNegatives(name='fn'), \n",
        "      keras.metrics.BinaryAccuracy(name='accuracy'),\n",
        "      keras.metrics.Precision(name='precision'),\n",
        "      keras.metrics.Recall(name='recall'),\n",
        "      keras.metrics.AUC(name='auc'),\n",
        "]\n",
        "\n",
        "model = tf.keras.Sequential()\n",
        "model.add(tf.keras.layers.Dense(256,activation='relu'))\n",
        "model.add(tf.keras.layers.Dropout(0.2))\n",
        "model.add(tf.keras.layers.Dense(128, activation='relu'))\n",
        "model.add(tf.keras.layers.Dropout(0.1))\n",
        "model.add(tf.keras.layers.Dense(32, activation='relu'))\n",
        "model.add(tf.keras.layers.Dense(8, activation='relu'))\n",
        "model.add(tf.keras.layers.Dense(1, activation='sigmoid'))\n",
        "model.compile(optimizer='adam', loss='binary_crossentropy', metrics=METRICS)\n",
        "baseline_history=model.fit(X_train, y_train, batch_size=256, epochs=10, validation_data=(X_valid,y_valid))"
      ],
      "execution_count": null,
      "outputs": [
        {
          "output_type": "stream",
          "text": [
            "Epoch 1/10\n",
            "19688/19688 [==============================] - 126s 6ms/step - loss: 0.6120 - tp: 961280.4451 - fp: 456278.1753 - tn: 729168.8634 - fn: 373592.4901 - accuracy: 0.6555 - precision: 0.6615 - recall: 0.7244 - auc: 0.7147 - val_loss: 0.5424 - val_tp: 189863.0000 - val_fp: 69197.0000 - val_tn: 156320.0000 - val_fn: 64620.0000 - val_accuracy: 0.7212 - val_precision: 0.7329 - val_recall: 0.7461 - val_auc: 0.7975\n",
            "Epoch 2/10\n",
            "19688/19688 [==============================] - 124s 6ms/step - loss: 0.5509 - tp: 984008.5990 - fp: 363595.9309 - tn: 821614.4788 - fn: 351100.9651 - accuracy: 0.7156 - precision: 0.7295 - recall: 0.7363 - auc: 0.7897 - val_loss: 0.5277 - val_tp: 179385.0000 - val_fp: 54041.0000 - val_tn: 171476.0000 - val_fn: 75098.0000 - val_accuracy: 0.7310 - val_precision: 0.7685 - val_recall: 0.7049 - val_auc: 0.8122\n",
            "Epoch 3/10\n",
            "19688/19688 [==============================] - 124s 6ms/step - loss: 0.5386 - tp: 996465.9367 - fp: 353207.1808 - tn: 831561.4069 - fn: 339085.4495 - accuracy: 0.7247 - precision: 0.7378 - recall: 0.7457 - auc: 0.8010 - val_loss: 0.5164 - val_tp: 187984.0000 - val_fp: 58426.0000 - val_tn: 167091.0000 - val_fn: 66499.0000 - val_accuracy: 0.7397 - val_precision: 0.7629 - val_recall: 0.7387 - val_auc: 0.8209\n",
            "Epoch 4/10\n",
            "19688/19688 [==============================] - 125s 6ms/step - loss: 0.5301 - tp: 1005232.9588 - fp: 348167.3162 - tn: 837244.4583 - fn: 329675.2406 - accuracy: 0.7308 - precision: 0.7427 - recall: 0.7527 - auc: 0.8086 - val_loss: 0.5091 - val_tp: 189362.0000 - val_fp: 57506.0000 - val_tn: 168011.0000 - val_fn: 65121.0000 - val_accuracy: 0.7445 - val_precision: 0.7671 - val_recall: 0.7441 - val_auc: 0.8263\n",
            "Epoch 5/10\n",
            "19688/19688 [==============================] - 126s 6ms/step - loss: 0.5245 - tp: 1010221.4690 - fp: 343745.7185 - tn: 842013.1293 - fn: 324339.6571 - accuracy: 0.7346 - precision: 0.7460 - recall: 0.7562 - auc: 0.8133 - val_loss: 0.5041 - val_tp: 194536.0000 - val_fp: 60968.0000 - val_tn: 164549.0000 - val_fn: 59947.0000 - val_accuracy: 0.7481 - val_precision: 0.7614 - val_recall: 0.7644 - val_auc: 0.8304\n",
            "Epoch 6/10\n",
            "19688/19688 [==============================] - 125s 6ms/step - loss: 0.5203 - tp: 1016392.2647 - fp: 342769.9779 - tn: 842402.1391 - fn: 318755.5922 - accuracy: 0.7374 - precision: 0.7479 - recall: 0.7611 - auc: 0.8168 - val_loss: 0.5055 - val_tp: 197765.0000 - val_fp: 64733.0000 - val_tn: 160784.0000 - val_fn: 56718.0000 - val_accuracy: 0.7470 - val_precision: 0.7534 - val_recall: 0.7771 - val_auc: 0.8293\n",
            "Epoch 7/10\n",
            "19688/19688 [==============================] - 126s 6ms/step - loss: 0.5175 - tp: 1019997.2913 - fp: 341242.5180 - tn: 844216.7662 - fn: 314863.3985 - accuracy: 0.7395 - precision: 0.7492 - recall: 0.7640 - auc: 0.8190 - val_loss: 0.5014 - val_tp: 199857.0000 - val_fp: 65451.0000 - val_tn: 160066.0000 - val_fn: 54626.0000 - val_accuracy: 0.7498 - val_precision: 0.7533 - val_recall: 0.7853 - val_auc: 0.8326\n",
            "Epoch 8/10\n",
            "19688/19688 [==============================] - 125s 6ms/step - loss: 0.5150 - tp: 1021896.4403 - fp: 339463.9048 - tn: 846170.0630 - fn: 312789.5657 - accuracy: 0.7411 - precision: 0.7505 - recall: 0.7654 - auc: 0.8211 - val_loss: 0.5006 - val_tp: 205635.0000 - val_fp: 70743.0000 - val_tn: 154774.0000 - val_fn: 48848.0000 - val_accuracy: 0.7509 - val_precision: 0.7440 - val_recall: 0.8081 - val_auc: 0.8356\n",
            "Epoch 9/10\n",
            "19688/19688 [==============================] - 123s 6ms/step - loss: 0.5130 - tp: 1025116.7912 - fp: 339151.1538 - tn: 846220.3987 - fn: 309831.6301 - accuracy: 0.7424 - precision: 0.7514 - recall: 0.7679 - auc: 0.8227 - val_loss: 0.4962 - val_tp: 200524.0000 - val_fp: 64038.0000 - val_tn: 161479.0000 - val_fn: 53959.0000 - val_accuracy: 0.7542 - val_precision: 0.7579 - val_recall: 0.7880 - val_auc: 0.8368\n",
            "Epoch 10/10\n",
            "19688/19688 [==============================] - 123s 6ms/step - loss: 0.5116 - tp: 1026345.5441 - fp: 338112.5001 - tn: 847375.6078 - fn: 308486.3220 - accuracy: 0.7434 - precision: 0.7521 - recall: 0.7688 - auc: 0.8238 - val_loss: 0.4971 - val_tp: 200581.0000 - val_fp: 64850.0000 - val_tn: 160667.0000 - val_fn: 53902.0000 - val_accuracy: 0.7526 - val_precision: 0.7557 - val_recall: 0.7882 - val_auc: 0.8355\n"
          ],
          "name": "stdout"
        }
      ]
    },
    {
      "cell_type": "code",
      "metadata": {
        "colab": {
          "base_uri": "https://localhost:8080/",
          "height": 616
        },
        "id": "MOx8QfisN5R1",
        "outputId": "65fb9fbc-a0f7-4680-9e7a-7545cf832a4a"
      },
      "source": [
        "def plot_metrics(history):\n",
        "  metrics = ['loss', 'auc', 'precision', 'recall']\n",
        "  for n, metric in enumerate(metrics):\n",
        "    name = metric.replace(\"_\",\" \").capitalize()\n",
        "    plt.subplot(2,2,n+1)\n",
        "    plt.plot(history.epoch, history.history[metric], color=colors[0], label='Train')\n",
        "    plt.plot(history.epoch, history.history['val_'+metric],\n",
        "             color=colors[0], linestyle=\"--\", label='Val')\n",
        "    plt.xlabel('Epoch')\n",
        "    plt.ylabel(name)\n",
        "    if metric == 'loss':\n",
        "      plt.ylim([0, plt.ylim()[1]])\n",
        "    elif metric == 'auc':\n",
        "      plt.ylim([0.8,1])\n",
        "    else:\n",
        "      plt.ylim([0,1])\n",
        "\n",
        "    plt.legend()\n",
        "\n",
        "plot_metrics(baseline_history)"
      ],
      "execution_count": null,
      "outputs": [
        {
          "output_type": "display_data",
          "data": {
            "image/png": "[encoded data removed]",
            "text/plain": [
              "<Figure size 864x720 with 4 Axes>"
            ]
          },
          "metadata": {
            "tags": [],
            "needs_background": "light"
          }
        }
      ]
    },
    {
      "cell_type": "code",
      "metadata": {
        "id": "yWFbxg2mOYA7"
      },
      "source": [
        "BATCH_SIZE = 256\n",
        "\n",
        "train_predictions_baseline = model.predict(X_train, batch_size=BATCH_SIZE)\n",
        "test_predictions_baseline = model.predict(X_test, batch_size=BATCH_SIZE)"
      ],
      "execution_count": null,
      "outputs": []
    },
    {
      "cell_type": "code",
      "metadata": {
        "id": "NdVeBNmdOLas"
      },
      "source": [
        "def plot_cm(labels, predictions, p=0.5):\n",
        "  cm = confusion_matrix(labels, predictions > p)\n",
        "  plt.figure(figsize=(5,5))\n",
        "  sns.heatmap(cm, annot=True, fmt=\"d\")\n",
        "  plt.title('Confusion matrix @{:.2f}'.format(p))\n",
        "  plt.ylabel('Actual label')\n",
        "  plt.xlabel('Predicted label')\n",
        "\n",
        "  print(' (True Negatives): ', cm[0][0])\n",
        "  print(' (False Positives): ', cm[0][1])\n",
        "  print(' (False Negatives): ', cm[1][0])\n",
        "  print(' (True Positives): ', cm[1][1])"
      ],
      "execution_count": null,
      "outputs": []
    },
    {
      "cell_type": "code",
      "metadata": {
        "id": "73771U2GOmqv"
      },
      "source": [
        "baseline_results = model.evaluate(X_test, y_test,\n",
        "                                  batch_size=BATCH_SIZE, verbose=0)\n",
        "for name, value in zip(model.metrics_names, baseline_results):\n",
        "  print(name, ': ', value)\n",
        "print()\n",
        "\n",
        "plot_cm(y_test, test_predictions_baseline)"
      ],
      "execution_count": null,
      "outputs": []
    },
    {
      "cell_type": "code",
      "metadata": {
        "id": "CxrVNsUJOqVp"
      },
      "source": [
        "def plot_roc(name, labels, predictions, **kwargs):\n",
        "  fp, tp, _ = sklearn.metrics.roc_curve(labels, predictions)\n",
        "\n",
        "  plt.plot(100*fp, 100*tp, label=name, linewidth=2,**kwargs)\n",
        "  plt.xlabel('False positives [%]')\n",
        "  plt.ylabel('True positives [%]')\n",
        "  # plt.xlim([20,100])\n",
        "  # plt.ylim([80,100])\n",
        "  plt.grid(True)\n",
        "  ax = plt.gca()\n",
        "  ax.set_aspect('equal')"
      ],
      "execution_count": null,
      "outputs": []
    },
    {
      "cell_type": "code",
      "metadata": {
        "colab": {
          "base_uri": "https://localhost:8080/",
          "height": 279
        },
        "id": "HulAqGUtOq8H",
        "outputId": "1ab7566b-bdc6-469c-e636-f5750dea3c3e"
      },
      "source": [
        "colors = plt.rcParams['axes.prop_cycle'].by_key()['color']\n",
        "import sklearn\n",
        "plot_roc(\"Train Baseline\",np.reshape(y_train,(np.shape(y_train)[0],1)),train_predictions_baseline, color=colors[0])\n",
        "plot_roc(\"Test Baseline\", y_test, test_predictions_baseline, color=colors[1], linestyle='--')\n",
        "plt.legend(loc='lower right')\n",
        "plt.show()"
      ],
      "execution_count": null,
      "outputs": [
        {
          "output_type": "display_data",
          "data": {
            "image/png": "[encoded data removed]",
            "text/plain": [
              "<Figure size 432x288 with 1 Axes>"
            ]
          },
          "metadata": {
            "tags": [],
            "needs_background": "light"
          }
        }
      ]
    },
    {
      "cell_type": "code",
      "metadata": {
        "colab": {
          "base_uri": "https://localhost:8080/"
        },
        "id": "jT4enhAeOsLB",
        "outputId": "a20feabf-5bef-41b0-9333-52cfc793a690"
      },
      "source": [
        "model.save(\"DNN_model\")"
      ],
      "execution_count": null,
      "outputs": [
        {
          "output_type": "stream",
          "text": [
            "INFO:tensorflow:Assets written to: DNN_model/assets\n"
          ],
          "name": "stdout"
        }
      ]
    },
    {
      "cell_type": "markdown",
      "metadata": {
        "id": "dFNX_H9lkYDE"
      },
      "source": [
        "# Load Model from Drive"
      ]
    },
    {
      "cell_type": "code",
      "metadata": {
        "id": "JCd3-5qSXQmz"
      },
      "source": [
        "model = keras.models.load_model('DNN_model')\n"
      ],
      "execution_count": null,
      "outputs": []
    }
  ]
}